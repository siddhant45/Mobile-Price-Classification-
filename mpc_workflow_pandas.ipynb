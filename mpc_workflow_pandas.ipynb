#Pipelines
import pandas as pd
from xgboost import XGBRegressor

from sklearn.model_selection import train_test_split, cross_val_score
from sklearn.pipeline import Pipeline
from sklearn.impute import SimpleImputer
from sklearn.preprocessing import OneHotEncoder
from sklearn.compose import ColumnTransformer
from sklearn.ensemble import RandomForestRegressor
from sklearn.metrics import mean_absolute_error


pd.set_option('display.max_columns', 100)
pd.set_option('display.max_rows', 100)

DATA_FILE = 'C:/your path........./mobile-price-classification/train.csv'

#Import Data
df = pd.read_csv(DATA_FILE)
df.head()


